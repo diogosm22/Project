{
  "cells": [
    {
      "cell_type": "markdown",
      "metadata": {
        "id": "view-in-github",
        "colab_type": "text"
      },
      "source": [
        "<a href=\"https://colab.research.google.com/github/diogosm22/yolov11/blob/main/treinar_criar_exportar_modelo.ipynb\" target=\"_parent\"><img src=\"https://colab.research.google.com/assets/colab-badge.svg\" alt=\"Open In Colab\"/></a>"
      ]
    },
    {
      "cell_type": "markdown",
      "metadata": {
        "id": "3C3EO_2zNChu"
      },
      "source": [
        "## Install YOLO11 via Ultralytics"
      ]
    },
    {
      "cell_type": "markdown",
      "metadata": {
        "id": "eO4jp3hX8dhj"
      },
      "source": [
        "## Setup"
      ]
    },
    {
      "cell_type": "markdown",
      "metadata": {
        "id": "gfvTJ0-ejc33"
      },
      "source": [
        "### Configure API keys\n",
        "\n",
        "To fine-tune YOLO11, you need to provide your Roboflow API key. Follow these steps:\n",
        "\n",
        "- Go to your [`Roboflow Settings`](https://app.roboflow.com/settings/api) page. Click `Copy`. This will place your private key in the clipboard.\n",
        "- In Colab, go to the left pane and click on `Secrets` (🔑). Store Roboflow API Key under the name `ROBOFLOW_API_KEY`."
      ]
    },
    {
      "cell_type": "markdown",
      "metadata": {
        "id": "FyRdDYkqAKN4"
      },
      "source": [
        "### Before you start\n",
        "\n",
        "Let's make sure that we have access to GPU. We can use `nvidia-smi` command to do that. In case of any problems navigate to `Edit` -> `Notebook settings` -> `Hardware accelerator`, set it to `GPU`, and then click `Save`."
      ]
    },
    {
      "cell_type": "code",
      "execution_count": 1,
      "metadata": {
        "id": "tdSMcABDNKW-",
        "outputId": "6b169bc9-6e9f-440c-c90e-55e831bda022",
        "colab": {
          "base_uri": "https://localhost:8080/"
        }
      },
      "outputs": [
        {
          "output_type": "stream",
          "name": "stdout",
          "text": [
            "Ultralytics 8.3.40 🚀 Python-3.11.11 torch-2.6.0+cu124 CUDA:0 (Tesla T4, 15095MiB)\n",
            "Setup complete ✅ (2 CPUs, 12.7 GB RAM, 41.2/112.6 GB disk)\n"
          ]
        }
      ],
      "source": [
        "%pip install \"ultralytics<=8.3.40\" supervision roboflow\n",
        "import ultralytics\n",
        "ultralytics.checks()"
      ]
    },
    {
      "cell_type": "code",
      "execution_count": 2,
      "metadata": {
        "id": "Y8cDtxLIBHgQ",
        "outputId": "ff982ce9-ea92-4f7b-cf48-d5cbd8bf6b79",
        "colab": {
          "base_uri": "https://localhost:8080/"
        }
      },
      "outputs": [
        {
          "output_type": "stream",
          "name": "stdout",
          "text": [
            "API Key carregada: OK\n"
          ]
        }
      ],
      "source": [
        "from google.colab import userdata\n",
        "from roboflow import Roboflow\n",
        "\n",
        "# Obter a API Key armazenada nos Secrets do Colab\n",
        "ROBOFLOW_API_KEY = userdata.get(\"ROBOFLOW_API_KEY\")\n",
        "\n",
        "# Inicializar Roboflow com a API Key\n",
        "rf = Roboflow(api_key=ROBOFLOW_API_KEY)\n",
        "\n",
        "# Verificar se a chave foi carregada corretamente\n",
        "print(\"API Key carregada:\", \"OK\" if ROBOFLOW_API_KEY else \"Erro: API Key não encontrada!\")\n"
      ]
    },
    {
      "cell_type": "code",
      "source": [
        "from ultralytics import YOLO\n"
      ],
      "metadata": {
        "id": "wHZoO-HgCKhR"
      },
      "execution_count": 3,
      "outputs": []
    },
    {
      "cell_type": "markdown",
      "metadata": {
        "id": "fcvTRlHH8n5V"
      },
      "source": [
        "**NOTE:** To make it easier for us to manage datasets, images and models we create a `HOME` constant."
      ]
    },
    {
      "cell_type": "code",
      "execution_count": 4,
      "metadata": {
        "id": "CjpPg4mGKc1v",
        "outputId": "0889cc2b-9f15-4d81-9293-e2af7381501a",
        "colab": {
          "base_uri": "https://localhost:8080/"
        }
      },
      "outputs": [
        {
          "output_type": "stream",
          "name": "stdout",
          "text": [
            "/content\n"
          ]
        }
      ],
      "source": [
        "import os\n",
        "HOME = os.getcwd()\n",
        "print(HOME)"
      ]
    },
    {
      "cell_type": "markdown",
      "metadata": {
        "id": "oSI-qYxsG6Wl"
      },
      "source": [
        "## Fine-tune YOLO11 on custom dataset"
      ]
    },
    {
      "cell_type": "markdown",
      "metadata": {
        "id": "YGOP0bCgH4cb"
      },
      "source": [
        "**NOTE:** When training YOLOv11, make sure your data is located in `datasets`. If you'd like to change the default location of the data you want to use for fine-tuning, you can do so through Ultralytics' `settings.json`. In this tutorial, we will use one of the [datasets](https://universe.roboflow.com/liangdianzhong/-qvdww) available on [Roboflow Universe](https://universe.roboflow.com/). When downloading, make sure to select the `yolov11` export format."
      ]
    },
    {
      "cell_type": "markdown",
      "source": [
        "Object Detection"
      ],
      "metadata": {
        "id": "JuCYn9KDmyoe"
      }
    },
    {
      "cell_type": "code",
      "execution_count": null,
      "metadata": {
        "id": "BSd93ZJzZZKt"
      },
      "outputs": [],
      "source": [
        "!mkdir {HOME}/datasets\n",
        "%cd {HOME}/datasets\n",
        "\n",
        "from google.colab import userdata\n",
        "from roboflow import Roboflow\n",
        "\n",
        "ROBOFLOW_API_KEY = userdata.get('ROBOFLOW_API_KEY')\n",
        "rf = Roboflow(api_key=ROBOFLOW_API_KEY)\n",
        "\n",
        "workspace = rf.workspace(\"holes-bixgu\")\n",
        "project = workspace.project(\"detect-count-and-visualize-object-detection-qzrqy\")\n",
        "version = project.version(10)\n",
        "dataset = version.download(\"yolov11\")"
      ]
    },
    {
      "cell_type": "markdown",
      "source": [
        "Segmentation"
      ],
      "metadata": {
        "id": "l9PtUU6GmiT6"
      }
    },
    {
      "cell_type": "code",
      "source": [
        "!mkdir {HOME}/datasets\n",
        "%cd {HOME}/datasets\n",
        "\n",
        "from google.colab import userdata\n",
        "from roboflow import Roboflow\n",
        "\n",
        "ROBOFLOW_API_KEY = userdata.get('ROBOFLOW_API_KEY')\n",
        "rf = Roboflow(api_key=ROBOFLOW_API_KEY)\n",
        "\n",
        "workspace = rf.workspace(\"holes-bixgu\")\n",
        "project = workspace.project(\"hole_segmentation\")\n",
        "version = project.version(3)\n",
        "dataset = version.download(\"yolov11\")"
      ],
      "metadata": {
        "id": "Sa0wuWCImhwU",
        "outputId": "d1b6650e-d4ab-49c6-a1f9-5722d1116f82",
        "colab": {
          "base_uri": "https://localhost:8080/"
        }
      },
      "execution_count": 5,
      "outputs": [
        {
          "output_type": "stream",
          "name": "stdout",
          "text": [
            "/content/datasets\n",
            "loading Roboflow workspace...\n",
            "loading Roboflow project...\n",
            "Exporting format yolov11 in progress : 85.0%\n",
            "Version export complete for yolov11 format\n"
          ]
        },
        {
          "output_type": "stream",
          "name": "stderr",
          "text": [
            "Downloading Dataset Version Zip in Hole_Segmentation-3 to yolov11:: 100%|██████████| 10513/10513 [00:00<00:00, 19043.05it/s]"
          ]
        },
        {
          "output_type": "stream",
          "name": "stdout",
          "text": [
            "\n"
          ]
        },
        {
          "output_type": "stream",
          "name": "stderr",
          "text": [
            "\n",
            "Extracting Dataset Version Zip to Hole_Segmentation-3 in yolov11:: 100%|██████████| 334/334 [00:00<00:00, 3133.82it/s]\n"
          ]
        }
      ]
    },
    {
      "cell_type": "markdown",
      "metadata": {
        "id": "YUjFBKKqXa-u"
      },
      "source": [
        "## Custom Training"
      ]
    },
    {
      "cell_type": "markdown",
      "source": [
        "Object Detection"
      ],
      "metadata": {
        "id": "HzWGRhskbG2j"
      }
    },
    {
      "cell_type": "code",
      "execution_count": null,
      "metadata": {
        "id": "D2YkphuiaE7_"
      },
      "outputs": [],
      "source": [
        "%cd {HOME}\n",
        "model = YOLO(\"yolo11s.pt\")\n",
        "model = YOLO(\"yolo11n.pt\")\n",
        "model = YOLO(\"yolo11m.pt\")\n",
        "model = YOLO(\"yolo11l.pt\")\n",
        "model = YOLO(\"yolo11x.pt\")\n",
        "!yolo task=detect mode=train model=yolo11m.pt data={dataset.location}/data.yaml epochs=100 imgsz=640 plots=True"
      ]
    },
    {
      "cell_type": "markdown",
      "source": [
        "Image Segmentation"
      ],
      "metadata": {
        "id": "nVPYkoOKbCaM"
      }
    },
    {
      "cell_type": "code",
      "source": [
        "%cd {HOME}\n",
        "model = YOLO(\"yolo11s-seg.pt\")\n",
        "model = YOLO(\"yolo11n-seg.pt\")\n",
        "model = YOLO(\"yolo11m-seg.pt\")\n",
        "model = YOLO(\"yolo11l-seg.pt\")\n",
        "model = YOLO(\"yolo11x-seg.pt\")\n",
        "\n",
        "# Iniciar o treino para segmentação\n",
        "!yolo task=segment mode=train model=yolo11s-seg.pt data={dataset.location}/data.yaml epochs=100 imgsz=640 plots=True\n"
      ],
      "metadata": {
        "id": "z3YY276fbBlH",
        "outputId": "e2c241ee-381b-415c-e7c2-7caceef25189",
        "colab": {
          "base_uri": "https://localhost:8080/"
        }
      },
      "execution_count": 6,
      "outputs": [
        {
          "output_type": "stream",
          "name": "stdout",
          "text": [
            "/content\n",
            "Downloading https://github.com/ultralytics/assets/releases/download/v8.3.0/yolo11s-seg.pt to 'yolo11s-seg.pt'...\n"
          ]
        },
        {
          "output_type": "stream",
          "name": "stderr",
          "text": [
            "100%|██████████| 19.7M/19.7M [00:00<00:00, 155MB/s] \n"
          ]
        },
        {
          "output_type": "stream",
          "name": "stdout",
          "text": [
            "Downloading https://github.com/ultralytics/assets/releases/download/v8.3.0/yolo11n-seg.pt to 'yolo11n-seg.pt'...\n"
          ]
        },
        {
          "output_type": "stream",
          "name": "stderr",
          "text": [
            "100%|██████████| 5.90M/5.90M [00:00<00:00, 95.3MB/s]"
          ]
        },
        {
          "output_type": "stream",
          "name": "stdout",
          "text": [
            "Downloading https://github.com/ultralytics/assets/releases/download/v8.3.0/yolo11m-seg.pt to 'yolo11m-seg.pt'...\n"
          ]
        },
        {
          "output_type": "stream",
          "name": "stderr",
          "text": [
            "\n",
            "100%|██████████| 43.3M/43.3M [00:00<00:00, 97.2MB/s]\n"
          ]
        },
        {
          "output_type": "stream",
          "name": "stdout",
          "text": [
            "Downloading https://github.com/ultralytics/assets/releases/download/v8.3.0/yolo11l-seg.pt to 'yolo11l-seg.pt'...\n"
          ]
        },
        {
          "output_type": "stream",
          "name": "stderr",
          "text": [
            "100%|██████████| 53.5M/53.5M [00:00<00:00, 124MB/s]\n"
          ]
        },
        {
          "output_type": "stream",
          "name": "stdout",
          "text": [
            "Downloading https://github.com/ultralytics/assets/releases/download/v8.3.0/yolo11x-seg.pt to 'yolo11x-seg.pt'...\n"
          ]
        },
        {
          "output_type": "stream",
          "name": "stderr",
          "text": [
            "100%|██████████| 119M/119M [00:00<00:00, 334MB/s] \n"
          ]
        },
        {
          "output_type": "stream",
          "name": "stdout",
          "text": [
            "New https://pypi.org/project/ultralytics/8.3.92 available 😃 Update with 'pip install -U ultralytics'\n",
            "Ultralytics 8.3.40 🚀 Python-3.11.11 torch-2.6.0+cu124 CUDA:0 (Tesla T4, 15095MiB)\n",
            "\u001b[34m\u001b[1mengine/trainer: \u001b[0mtask=segment, mode=train, model=yolo11s-seg.pt, data=/content/datasets/Hole_Segmentation-3/data.yaml, epochs=100, time=None, patience=100, batch=16, imgsz=640, save=True, save_period=-1, cache=False, device=None, workers=8, project=None, name=train, exist_ok=False, pretrained=True, optimizer=auto, verbose=True, seed=0, deterministic=True, single_cls=False, rect=False, cos_lr=False, close_mosaic=10, resume=False, amp=True, fraction=1.0, profile=False, freeze=None, multi_scale=False, overlap_mask=True, mask_ratio=4, dropout=0.0, val=True, split=val, save_json=False, save_hybrid=False, conf=None, iou=0.7, max_det=300, half=False, dnn=False, plots=True, source=None, vid_stride=1, stream_buffer=False, visualize=False, augment=False, agnostic_nms=False, classes=None, retina_masks=False, embed=None, show=False, save_frames=False, save_txt=False, save_conf=False, save_crop=False, show_labels=True, show_conf=True, show_boxes=True, line_width=None, format=torchscript, keras=False, optimize=False, int8=False, dynamic=False, simplify=True, opset=None, workspace=None, nms=False, lr0=0.01, lrf=0.01, momentum=0.937, weight_decay=0.0005, warmup_epochs=3.0, warmup_momentum=0.8, warmup_bias_lr=0.1, box=7.5, cls=0.5, dfl=1.5, pose=12.0, kobj=1.0, nbs=64, hsv_h=0.015, hsv_s=0.7, hsv_v=0.4, degrees=0.0, translate=0.1, scale=0.5, shear=0.0, perspective=0.0, flipud=0.0, fliplr=0.5, bgr=0.0, mosaic=1.0, mixup=0.0, copy_paste=0.0, copy_paste_mode=flip, auto_augment=randaugment, erasing=0.4, crop_fraction=1.0, cfg=None, tracker=botsort.yaml, save_dir=runs/segment/train\n",
            "Downloading https://ultralytics.com/assets/Arial.ttf to '/root/.config/Ultralytics/Arial.ttf'...\n",
            "100% 755k/755k [00:00<00:00, 22.9MB/s]\n",
            "WARNING: All log messages before absl::InitializeLog() is called are written to STDERR\n",
            "E0000 00:00:1742307336.985199    1031 cuda_dnn.cc:8310] Unable to register cuDNN factory: Attempting to register factory for plugin cuDNN when one has already been registered\n",
            "E0000 00:00:1742307337.055294    1031 cuda_blas.cc:1418] Unable to register cuBLAS factory: Attempting to register factory for plugin cuBLAS when one has already been registered\n",
            "Overriding model.yaml nc=80 with nc=1\n",
            "\n",
            "                   from  n    params  module                                       arguments                     \n",
            "  0                  -1  1       928  ultralytics.nn.modules.conv.Conv             [3, 32, 3, 2]                 \n",
            "  1                  -1  1     18560  ultralytics.nn.modules.conv.Conv             [32, 64, 3, 2]                \n",
            "  2                  -1  1     26080  ultralytics.nn.modules.block.C3k2            [64, 128, 1, False, 0.25]     \n",
            "  3                  -1  1    147712  ultralytics.nn.modules.conv.Conv             [128, 128, 3, 2]              \n",
            "  4                  -1  1    103360  ultralytics.nn.modules.block.C3k2            [128, 256, 1, False, 0.25]    \n",
            "  5                  -1  1    590336  ultralytics.nn.modules.conv.Conv             [256, 256, 3, 2]              \n",
            "  6                  -1  1    346112  ultralytics.nn.modules.block.C3k2            [256, 256, 1, True]           \n",
            "  7                  -1  1   1180672  ultralytics.nn.modules.conv.Conv             [256, 512, 3, 2]              \n",
            "  8                  -1  1   1380352  ultralytics.nn.modules.block.C3k2            [512, 512, 1, True]           \n",
            "  9                  -1  1    656896  ultralytics.nn.modules.block.SPPF            [512, 512, 5]                 \n",
            " 10                  -1  1    990976  ultralytics.nn.modules.block.C2PSA           [512, 512, 1]                 \n",
            " 11                  -1  1         0  torch.nn.modules.upsampling.Upsample         [None, 2, 'nearest']          \n",
            " 12             [-1, 6]  1         0  ultralytics.nn.modules.conv.Concat           [1]                           \n",
            " 13                  -1  1    443776  ultralytics.nn.modules.block.C3k2            [768, 256, 1, False]          \n",
            " 14                  -1  1         0  torch.nn.modules.upsampling.Upsample         [None, 2, 'nearest']          \n",
            " 15             [-1, 4]  1         0  ultralytics.nn.modules.conv.Concat           [1]                           \n",
            " 16                  -1  1    127680  ultralytics.nn.modules.block.C3k2            [512, 128, 1, False]          \n",
            " 17                  -1  1    147712  ultralytics.nn.modules.conv.Conv             [128, 128, 3, 2]              \n",
            " 18            [-1, 13]  1         0  ultralytics.nn.modules.conv.Concat           [1]                           \n",
            " 19                  -1  1    345472  ultralytics.nn.modules.block.C3k2            [384, 256, 1, False]          \n",
            " 20                  -1  1    590336  ultralytics.nn.modules.conv.Conv             [256, 256, 3, 2]              \n",
            " 21            [-1, 10]  1         0  ultralytics.nn.modules.conv.Concat           [1]                           \n",
            " 22                  -1  1   1511424  ultralytics.nn.modules.block.C3k2            [768, 512, 1, True]           \n",
            " 23        [16, 19, 22]  1   1474291  ultralytics.nn.modules.head.Segment          [1, 32, 128, [128, 256, 512]] \n",
            "YOLO11s-seg summary: 355 layers, 10,082,675 parameters, 10,082,659 gradients, 35.6 GFLOPs\n",
            "\n",
            "Transferred 555/561 items from pretrained weights\n",
            "\u001b[34m\u001b[1mTensorBoard: \u001b[0mStart with 'tensorboard --logdir runs/segment/train', view at http://localhost:6006/\n",
            "Freezing layer 'model.23.dfl.conv.weight'\n",
            "\u001b[34m\u001b[1mAMP: \u001b[0mrunning Automatic Mixed Precision (AMP) checks...\n",
            "Downloading https://github.com/ultralytics/assets/releases/download/v8.3.0/yolo11n.pt to 'yolo11n.pt'...\n",
            "100% 5.35M/5.35M [00:00<00:00, 89.5MB/s]\n",
            "\u001b[34m\u001b[1mAMP: \u001b[0mchecks passed ✅\n",
            "\u001b[34m\u001b[1mtrain: \u001b[0mScanning /content/datasets/Hole_Segmentation-3/train/labels... 138 images, 15 backgrounds, 0 corrupt: 100% 138/138 [00:00<00:00, 1708.47it/s]\n",
            "\u001b[34m\u001b[1mtrain: \u001b[0mNew cache created: /content/datasets/Hole_Segmentation-3/train/labels.cache\n",
            "/usr/local/lib/python3.11/dist-packages/ultralytics/data/augment.py:1850: UserWarning: Argument(s) 'quality_lower' are not valid for transform ImageCompression\n",
            "  A.ImageCompression(quality_lower=75, p=0.0),\n",
            "\u001b[34m\u001b[1malbumentations: \u001b[0mBlur(p=0.01, blur_limit=(3, 7)), MedianBlur(p=0.01, blur_limit=(3, 7)), ToGray(p=0.01, num_output_channels=3, method='weighted_average'), CLAHE(p=0.01, clip_limit=(1.0, 4.0), tile_grid_size=(8, 8))\n",
            "\u001b[34m\u001b[1mval: \u001b[0mScanning /content/datasets/Hole_Segmentation-3/valid/labels... 14 images, 0 backgrounds, 0 corrupt: 100% 14/14 [00:00<00:00, 390.21it/s]\n",
            "\u001b[34m\u001b[1mval: \u001b[0mNew cache created: /content/datasets/Hole_Segmentation-3/valid/labels.cache\n",
            "Plotting labels to runs/segment/train/labels.jpg... \n",
            "\u001b[34m\u001b[1moptimizer:\u001b[0m 'optimizer=auto' found, ignoring 'lr0=0.01' and 'momentum=0.937' and determining best 'optimizer', 'lr0' and 'momentum' automatically... \n",
            "\u001b[34m\u001b[1moptimizer:\u001b[0m AdamW(lr=0.002, momentum=0.9) with parameter groups 90 weight(decay=0.0), 101 weight(decay=0.0005), 100 bias(decay=0.0)\n",
            "\u001b[34m\u001b[1mTensorBoard: \u001b[0mmodel graph visualization added ✅\n",
            "Image sizes 640 train, 640 val\n",
            "Using 2 dataloader workers\n",
            "Logging results to \u001b[1mruns/segment/train\u001b[0m\n",
            "Starting training for 100 epochs...\n",
            "\n",
            "      Epoch    GPU_mem   box_loss   seg_loss   cls_loss   dfl_loss  Instances       Size\n",
            "      1/100      5.75G      1.523      4.178      3.349      1.453         97        640: 100% 9/9 [00:09<00:00,  1.01s/it]\n",
            "                 Class     Images  Instances      Box(P          R      mAP50  mAP50-95)     Mask(P          R      mAP50  mAP50-95): 100% 1/1 [00:00<00:00,  1.91it/s]\n",
            "                   all         14        407      0.051      0.526     0.0603     0.0374     0.0517      0.533     0.0598      0.038\n",
            "\n",
            "      Epoch    GPU_mem   box_loss   seg_loss   cls_loss   dfl_loss  Instances       Size\n",
            "      2/100      5.73G      1.416      3.029       2.43      1.259        217        640: 100% 9/9 [00:04<00:00,  2.15it/s]\n",
            "                 Class     Images  Instances      Box(P          R      mAP50  mAP50-95)     Mask(P          R      mAP50  mAP50-95): 100% 1/1 [00:00<00:00,  2.04it/s]\n",
            "                   all         14        407       0.94       0.84      0.891      0.637       0.94       0.84      0.891      0.604\n",
            "\n",
            "      Epoch    GPU_mem   box_loss   seg_loss   cls_loss   dfl_loss  Instances       Size\n",
            "      3/100      5.73G      1.191      1.802      1.557      1.188        110        640: 100% 9/9 [00:04<00:00,  2.01it/s]\n",
            "                 Class     Images  Instances      Box(P          R      mAP50  mAP50-95)     Mask(P          R      mAP50  mAP50-95): 100% 1/1 [00:00<00:00,  1.86it/s]\n",
            "                   all         14        407       0.95      0.888      0.956      0.673       0.95      0.881      0.951      0.656\n",
            "\n",
            "      Epoch    GPU_mem   box_loss   seg_loss   cls_loss   dfl_loss  Instances       Size\n",
            "      4/100      5.46G      1.265      1.741      1.246      1.154        113        640: 100% 9/9 [00:03<00:00,  2.36it/s]\n",
            "                 Class     Images  Instances      Box(P          R      mAP50  mAP50-95)     Mask(P          R      mAP50  mAP50-95): 100% 1/1 [00:00<00:00,  1.96it/s]\n",
            "                   all         14        407      0.854      0.926      0.905      0.658      0.852      0.924      0.899      0.584\n",
            "\n",
            "      Epoch    GPU_mem   box_loss   seg_loss   cls_loss   dfl_loss  Instances       Size\n",
            "      5/100      5.83G      1.336      1.789       1.35       1.21         38        640: 100% 9/9 [00:04<00:00,  2.20it/s]\n",
            "                 Class     Images  Instances      Box(P          R      mAP50  mAP50-95)     Mask(P          R      mAP50  mAP50-95): 100% 1/1 [00:00<00:00,  1.42it/s]\n",
            "                   all         14        407      0.868      0.728      0.856      0.525      0.851      0.732       0.85      0.468\n",
            "\n",
            "      Epoch    GPU_mem   box_loss   seg_loss   cls_loss   dfl_loss  Instances       Size\n",
            "      6/100      6.02G      1.287      1.716       1.53       1.27        119        640: 100% 9/9 [00:03<00:00,  2.42it/s]\n",
            "                 Class     Images  Instances      Box(P          R      mAP50  mAP50-95)     Mask(P          R      mAP50  mAP50-95): 100% 1/1 [00:00<00:00,  2.61it/s]\n",
            "                   all         14        407      0.287       0.27      0.131     0.0447       0.29      0.273      0.134     0.0446\n",
            "\n",
            "      Epoch    GPU_mem   box_loss   seg_loss   cls_loss   dfl_loss  Instances       Size\n",
            "      7/100      5.28G      1.297      1.867      1.275      1.303         84        640: 100% 9/9 [00:03<00:00,  2.44it/s]\n",
            "                 Class     Images  Instances      Box(P          R      mAP50  mAP50-95)     Mask(P          R      mAP50  mAP50-95): 100% 1/1 [00:00<00:00,  2.92it/s]\n",
            "                   all         14        407      0.176       0.26      0.114     0.0687      0.166      0.246      0.106     0.0565\n",
            "\n",
            "      Epoch    GPU_mem   box_loss   seg_loss   cls_loss   dfl_loss  Instances       Size\n",
            "      8/100      5.38G      1.179      1.741      1.104      1.224         69        640: 100% 9/9 [00:04<00:00,  2.09it/s]\n",
            "                 Class     Images  Instances      Box(P          R      mAP50  mAP50-95)     Mask(P          R      mAP50  mAP50-95): 100% 1/1 [00:00<00:00,  2.75it/s]\n",
            "                   all         14        407     0.0117      0.113    0.00649    0.00211          0          0          0          0\n",
            "\n",
            "      Epoch    GPU_mem   box_loss   seg_loss   cls_loss   dfl_loss  Instances       Size\n",
            "      9/100      5.64G      1.295      1.838      1.128      1.261        113        640: 100% 9/9 [00:03<00:00,  2.45it/s]\n",
            "                 Class     Images  Instances      Box(P          R      mAP50  mAP50-95)     Mask(P          R      mAP50  mAP50-95): 100% 1/1 [00:00<00:00,  2.78it/s]\n",
            "                   all         14        407     0.0569     0.0762       0.01    0.00488     0.0234     0.0246    0.00311    0.00152\n",
            "\n",
            "      Epoch    GPU_mem   box_loss   seg_loss   cls_loss   dfl_loss  Instances       Size\n",
            "     10/100      5.41G      1.328      1.734      1.095      1.245        167        640: 100% 9/9 [00:04<00:00,  2.08it/s]\n",
            "                 Class     Images  Instances      Box(P          R      mAP50  mAP50-95)     Mask(P          R      mAP50  mAP50-95): 100% 1/1 [00:00<00:00,  2.39it/s]\n",
            "                   all         14        407      0.513     0.0442     0.0432     0.0335      0.468     0.0393     0.0332      0.014\n",
            "\n",
            "      Epoch    GPU_mem   box_loss   seg_loss   cls_loss   dfl_loss  Instances       Size\n",
            "     11/100      5.53G      1.376      1.772      1.279      1.362         27        640: 100% 9/9 [00:03<00:00,  2.52it/s]\n",
            "                 Class     Images  Instances      Box(P          R      mAP50  mAP50-95)     Mask(P          R      mAP50  mAP50-95): 100% 1/1 [00:00<00:00,  2.96it/s]\n",
            "                   all         14        407      0.119     0.0319     0.0327      0.022      0.119     0.0319     0.0302     0.0209\n",
            "\n",
            "      Epoch    GPU_mem   box_loss   seg_loss   cls_loss   dfl_loss  Instances       Size\n",
            "     12/100      5.59G      1.182      1.607     0.9627      1.178         82        640: 100% 9/9 [00:03<00:00,  2.28it/s]\n",
            "                 Class     Images  Instances      Box(P          R      mAP50  mAP50-95)     Mask(P          R      mAP50  mAP50-95): 100% 1/1 [00:00<00:00,  2.42it/s]\n",
            "                   all         14        407      0.535      0.597      0.454       0.28      0.532      0.577      0.418      0.248\n",
            "\n",
            "      Epoch    GPU_mem   box_loss   seg_loss   cls_loss   dfl_loss  Instances       Size\n",
            "     13/100       5.9G      1.203      1.612       0.94      1.192         69        640: 100% 9/9 [00:03<00:00,  2.32it/s]\n",
            "                 Class     Images  Instances      Box(P          R      mAP50  mAP50-95)     Mask(P          R      mAP50  mAP50-95): 100% 1/1 [00:00<00:00,  2.86it/s]\n",
            "                   all         14        407      0.755      0.786      0.761       0.52      0.755      0.786      0.757      0.481\n",
            "\n",
            "      Epoch    GPU_mem   box_loss   seg_loss   cls_loss   dfl_loss  Instances       Size\n",
            "     14/100      6.21G       1.13      1.464     0.8968      1.161         49        640: 100% 9/9 [00:03<00:00,  2.43it/s]\n",
            "                 Class     Images  Instances      Box(P          R      mAP50  mAP50-95)     Mask(P          R      mAP50  mAP50-95): 100% 1/1 [00:00<00:00,  2.64it/s]\n",
            "                   all         14        407      0.757      0.862      0.839       0.55      0.752      0.851      0.828      0.529\n",
            "\n",
            "      Epoch    GPU_mem   box_loss   seg_loss   cls_loss   dfl_loss  Instances       Size\n",
            "     15/100      5.82G       1.16      1.501     0.8761      1.155         73        640: 100% 9/9 [00:04<00:00,  2.03it/s]\n",
            "                 Class     Images  Instances      Box(P          R      mAP50  mAP50-95)     Mask(P          R      mAP50  mAP50-95): 100% 1/1 [00:00<00:00,  2.76it/s]\n",
            "                   all         14        407      0.686       0.71       0.71      0.421      0.669      0.705      0.691      0.457\n",
            "\n",
            "      Epoch    GPU_mem   box_loss   seg_loss   cls_loss   dfl_loss  Instances       Size\n",
            "     16/100      5.41G      1.097      1.435     0.8584      1.157         91        640: 100% 9/9 [00:03<00:00,  2.47it/s]\n",
            "                 Class     Images  Instances      Box(P          R      mAP50  mAP50-95)     Mask(P          R      mAP50  mAP50-95): 100% 1/1 [00:00<00:00,  2.70it/s]\n",
            "                   all         14        407      0.641      0.802      0.667      0.447      0.639        0.8      0.658      0.423\n",
            "\n",
            "      Epoch    GPU_mem   box_loss   seg_loss   cls_loss   dfl_loss  Instances       Size\n",
            "     17/100      5.24G      1.164        1.6     0.9201      1.175         96        640: 100% 9/9 [00:03<00:00,  2.29it/s]\n",
            "                 Class     Images  Instances      Box(P          R      mAP50  mAP50-95)     Mask(P          R      mAP50  mAP50-95): 100% 1/1 [00:00<00:00,  1.48it/s]\n",
            "                   all         14        407      0.504      0.735      0.617      0.395      0.528      0.731      0.615      0.357\n",
            "\n",
            "      Epoch    GPU_mem   box_loss   seg_loss   cls_loss   dfl_loss  Instances       Size\n",
            "     18/100      5.87G      1.287      1.735      1.053      1.243         72        640: 100% 9/9 [00:03<00:00,  2.46it/s]\n",
            "                 Class     Images  Instances      Box(P          R      mAP50  mAP50-95)     Mask(P          R      mAP50  mAP50-95): 100% 1/1 [00:00<00:00,  2.87it/s]\n",
            "                   all         14        407      0.861      0.806      0.823      0.571      0.861      0.806      0.821      0.588\n",
            "\n",
            "      Epoch    GPU_mem   box_loss   seg_loss   cls_loss   dfl_loss  Instances       Size\n",
            "     19/100      5.56G      1.214      1.676     0.9018      1.167         82        640: 100% 9/9 [00:03<00:00,  2.41it/s]\n",
            "                 Class     Images  Instances      Box(P          R      mAP50  mAP50-95)     Mask(P          R      mAP50  mAP50-95): 100% 1/1 [00:00<00:00,  3.06it/s]\n",
            "                   all         14        407      0.731      0.882      0.735      0.517      0.732      0.875      0.732      0.496\n",
            "\n",
            "      Epoch    GPU_mem   box_loss   seg_loss   cls_loss   dfl_loss  Instances       Size\n",
            "     20/100      5.86G      1.133      1.611     0.9073      1.185        105        640: 100% 9/9 [00:04<00:00,  2.05it/s]\n",
            "                 Class     Images  Instances      Box(P          R      mAP50  mAP50-95)     Mask(P          R      mAP50  mAP50-95): 100% 1/1 [00:00<00:00,  2.94it/s]\n",
            "                   all         14        407      0.811      0.862      0.861       0.59       0.81      0.861      0.849      0.609\n",
            "\n",
            "      Epoch    GPU_mem   box_loss   seg_loss   cls_loss   dfl_loss  Instances       Size\n",
            "     21/100      5.65G      1.128       1.57     0.7731      1.116        203        640: 100% 9/9 [00:03<00:00,  2.41it/s]\n",
            "                 Class     Images  Instances      Box(P          R      mAP50  mAP50-95)     Mask(P          R      mAP50  mAP50-95): 100% 1/1 [00:00<00:00,  2.81it/s]\n",
            "                   all         14        407      0.908      0.902      0.937      0.653      0.908      0.902      0.936      0.621\n",
            "\n",
            "      Epoch    GPU_mem   box_loss   seg_loss   cls_loss   dfl_loss  Instances       Size\n",
            "     22/100      5.75G      1.102      1.469     0.8269      1.152         77        640: 100% 9/9 [00:04<00:00,  2.00it/s]\n",
            "                 Class     Images  Instances      Box(P          R      mAP50  mAP50-95)     Mask(P          R      mAP50  mAP50-95): 100% 1/1 [00:00<00:00,  2.20it/s]\n",
            "                   all         14        407      0.822      0.914      0.841      0.575      0.822      0.922      0.844      0.538\n",
            "\n",
            "      Epoch    GPU_mem   box_loss   seg_loss   cls_loss   dfl_loss  Instances       Size\n",
            "     23/100      5.37G      1.098      1.556     0.7423       1.13        141        640: 100% 9/9 [00:03<00:00,  2.52it/s]\n",
            "                 Class     Images  Instances      Box(P          R      mAP50  mAP50-95)     Mask(P          R      mAP50  mAP50-95): 100% 1/1 [00:00<00:00,  2.53it/s]\n",
            "                   all         14        407      0.919      0.923      0.952      0.723      0.925      0.919      0.953      0.676\n",
            "\n",
            "      Epoch    GPU_mem   box_loss   seg_loss   cls_loss   dfl_loss  Instances       Size\n",
            "     24/100      5.47G      1.073      1.464     0.7947      1.119         78        640: 100% 9/9 [00:03<00:00,  2.48it/s]\n",
            "                 Class     Images  Instances      Box(P          R      mAP50  mAP50-95)     Mask(P          R      mAP50  mAP50-95): 100% 1/1 [00:00<00:00,  2.55it/s]\n",
            "                   all         14        407      0.934      0.916      0.961      0.723      0.929      0.912      0.947      0.681\n",
            "\n",
            "      Epoch    GPU_mem   box_loss   seg_loss   cls_loss   dfl_loss  Instances       Size\n",
            "     25/100      5.27G       1.09      1.455     0.7439       1.18         85        640: 100% 9/9 [00:03<00:00,  2.38it/s]\n",
            "                 Class     Images  Instances      Box(P          R      mAP50  mAP50-95)     Mask(P          R      mAP50  mAP50-95): 100% 1/1 [00:00<00:00,  2.71it/s]\n",
            "                   all         14        407      0.954      0.916      0.958      0.766      0.954      0.916      0.957      0.677\n",
            "\n",
            "      Epoch    GPU_mem   box_loss   seg_loss   cls_loss   dfl_loss  Instances       Size\n",
            "     26/100      5.68G      0.982      1.306     0.7238      1.161         40        640: 100% 9/9 [00:03<00:00,  2.52it/s]\n",
            "                 Class     Images  Instances      Box(P          R      mAP50  mAP50-95)     Mask(P          R      mAP50  mAP50-95): 100% 1/1 [00:00<00:00,  2.83it/s]\n",
            "                   all         14        407      0.944      0.912       0.96      0.743      0.944      0.912       0.96      0.677\n",
            "\n",
            "      Epoch    GPU_mem   box_loss   seg_loss   cls_loss   dfl_loss  Instances       Size\n",
            "     27/100      5.66G      1.086      1.419     0.7317      1.127        278        640: 100% 9/9 [00:04<00:00,  1.97it/s]\n",
            "                 Class     Images  Instances      Box(P          R      mAP50  mAP50-95)     Mask(P          R      mAP50  mAP50-95): 100% 1/1 [00:00<00:00,  2.85it/s]\n",
            "                   all         14        407        0.9      0.933      0.939      0.691      0.903      0.935      0.944      0.643\n",
            "\n",
            "      Epoch    GPU_mem   box_loss   seg_loss   cls_loss   dfl_loss  Instances       Size\n",
            "     28/100      5.69G      1.066      1.281     0.7428      1.097         52        640: 100% 9/9 [00:03<00:00,  2.39it/s]\n",
            "                 Class     Images  Instances      Box(P          R      mAP50  mAP50-95)     Mask(P          R      mAP50  mAP50-95): 100% 1/1 [00:00<00:00,  2.89it/s]\n",
            "                   all         14        407      0.952      0.921      0.973       0.67      0.954      0.924      0.977      0.643\n",
            "\n",
            "      Epoch    GPU_mem   box_loss   seg_loss   cls_loss   dfl_loss  Instances       Size\n",
            "     29/100      5.27G      1.169      1.528     0.8388       1.16         31        640: 100% 9/9 [00:03<00:00,  2.35it/s]\n",
            "                 Class     Images  Instances      Box(P          R      mAP50  mAP50-95)     Mask(P          R      mAP50  mAP50-95): 100% 1/1 [00:00<00:00,  1.93it/s]\n",
            "                   all         14        407      0.945      0.931      0.963      0.733      0.945      0.931      0.962      0.694\n",
            "\n",
            "      Epoch    GPU_mem   box_loss   seg_loss   cls_loss   dfl_loss  Instances       Size\n",
            "     30/100      5.55G      1.121      1.441     0.7161      1.109         94        640: 100% 9/9 [00:04<00:00,  1.83it/s]\n",
            "                 Class     Images  Instances      Box(P          R      mAP50  mAP50-95)     Mask(P          R      mAP50  mAP50-95): 100% 1/1 [00:00<00:00,  1.81it/s]\n",
            "                   all         14        407      0.955      0.943       0.97      0.712      0.953      0.941      0.967      0.683\n",
            "\n",
            "      Epoch    GPU_mem   box_loss   seg_loss   cls_loss   dfl_loss  Instances       Size\n",
            "     31/100      6.45G      1.028      1.381     0.7038      1.051        112        640: 100% 9/9 [00:04<00:00,  2.13it/s]\n",
            "                 Class     Images  Instances      Box(P          R      mAP50  mAP50-95)     Mask(P          R      mAP50  mAP50-95): 100% 1/1 [00:00<00:00,  1.60it/s]\n",
            "                   all         14        407      0.951      0.931       0.98      0.637      0.952      0.936      0.979      0.635\n",
            "\n",
            "      Epoch    GPU_mem   box_loss   seg_loss   cls_loss   dfl_loss  Instances       Size\n",
            "     32/100      5.61G      1.011      1.324     0.7179      1.086        230        640: 100% 9/9 [00:03<00:00,  2.41it/s]\n",
            "                 Class     Images  Instances      Box(P          R      mAP50  mAP50-95)     Mask(P          R      mAP50  mAP50-95): 100% 1/1 [00:00<00:00,  2.51it/s]\n",
            "                   all         14        407      0.888      0.926      0.938      0.686      0.885      0.924      0.936      0.643\n",
            "\n",
            "      Epoch    GPU_mem   box_loss   seg_loss   cls_loss   dfl_loss  Instances       Size\n",
            "     33/100      5.82G     0.9885      1.318     0.6595       1.06         63        640: 100% 9/9 [00:03<00:00,  2.35it/s]\n",
            "                 Class     Images  Instances      Box(P          R      mAP50  mAP50-95)     Mask(P          R      mAP50  mAP50-95): 100% 1/1 [00:00<00:00,  2.79it/s]\n",
            "                   all         14        407      0.911       0.91      0.933      0.672      0.911       0.91      0.931        0.6\n",
            "\n",
            "      Epoch    GPU_mem   box_loss   seg_loss   cls_loss   dfl_loss  Instances       Size\n",
            "     34/100      5.58G     0.9004      1.208     0.6785      1.077         40        640: 100% 9/9 [00:04<00:00,  2.19it/s]\n",
            "                 Class     Images  Instances      Box(P          R      mAP50  mAP50-95)     Mask(P          R      mAP50  mAP50-95): 100% 1/1 [00:00<00:00,  2.57it/s]\n",
            "                   all         14        407      0.899      0.945      0.948       0.73      0.899      0.945      0.948      0.677\n",
            "\n",
            "      Epoch    GPU_mem   box_loss   seg_loss   cls_loss   dfl_loss  Instances       Size\n",
            "     35/100      5.86G      1.063       1.32      0.664      1.062        197        640: 100% 9/9 [00:03<00:00,  2.38it/s]\n",
            "                 Class     Images  Instances      Box(P          R      mAP50  mAP50-95)     Mask(P          R      mAP50  mAP50-95): 100% 1/1 [00:00<00:00,  2.77it/s]\n",
            "                   all         14        407      0.969      0.934      0.982       0.73      0.969      0.934      0.976      0.693\n",
            "\n",
            "      Epoch    GPU_mem   box_loss   seg_loss   cls_loss   dfl_loss  Instances       Size\n",
            "     36/100      6.13G      1.063      1.408     0.6544      1.066        283        640: 100% 9/9 [00:04<00:00,  1.98it/s]\n",
            "                 Class     Images  Instances      Box(P          R      mAP50  mAP50-95)     Mask(P          R      mAP50  mAP50-95): 100% 1/1 [00:00<00:00,  2.48it/s]\n",
            "                   all         14        407       0.96      0.953      0.985      0.762       0.96      0.953      0.983       0.71\n",
            "\n",
            "      Epoch    GPU_mem   box_loss   seg_loss   cls_loss   dfl_loss  Instances       Size\n",
            "     37/100      5.72G      1.056      1.511     0.7176      1.109         46        640: 100% 9/9 [00:03<00:00,  2.40it/s]\n",
            "                 Class     Images  Instances      Box(P          R      mAP50  mAP50-95)     Mask(P          R      mAP50  mAP50-95): 100% 1/1 [00:00<00:00,  2.90it/s]\n",
            "                   all         14        407       0.95      0.968      0.983      0.814       0.95      0.968      0.983      0.779\n",
            "\n",
            "      Epoch    GPU_mem   box_loss   seg_loss   cls_loss   dfl_loss  Instances       Size\n",
            "     38/100      5.48G     0.9323      1.286     0.7178      1.122         81        640: 100% 9/9 [00:03<00:00,  2.43it/s]\n",
            "                 Class     Images  Instances      Box(P          R      mAP50  mAP50-95)     Mask(P          R      mAP50  mAP50-95): 100% 1/1 [00:00<00:00,  1.87it/s]\n",
            "                   all         14        407      0.954      0.956      0.971      0.769      0.954      0.956      0.973      0.724\n",
            "\n",
            "      Epoch    GPU_mem   box_loss   seg_loss   cls_loss   dfl_loss  Instances       Size\n",
            "     39/100      5.92G     0.9125      1.267     0.6969      1.106         44        640: 100% 9/9 [00:03<00:00,  2.42it/s]\n",
            "                 Class     Images  Instances      Box(P          R      mAP50  mAP50-95)     Mask(P          R      mAP50  mAP50-95): 100% 1/1 [00:00<00:00,  2.75it/s]\n",
            "                   all         14        407      0.936      0.935      0.959      0.752      0.936      0.935      0.962      0.692\n",
            "\n",
            "      Epoch    GPU_mem   box_loss   seg_loss   cls_loss   dfl_loss  Instances       Size\n",
            "     40/100       5.7G      0.861      1.162     0.6753      1.052         84        640: 100% 9/9 [00:03<00:00,  2.49it/s]\n",
            "                 Class     Images  Instances      Box(P          R      mAP50  mAP50-95)     Mask(P          R      mAP50  mAP50-95): 100% 1/1 [00:00<00:00,  3.04it/s]\n",
            "                   all         14        407        0.9      0.862      0.946      0.736      0.897       0.86      0.945      0.642\n",
            "\n",
            "      Epoch    GPU_mem   box_loss   seg_loss   cls_loss   dfl_loss  Instances       Size\n",
            "     41/100      5.35G     0.9556      1.258     0.6527      1.086         60        640: 100% 9/9 [00:04<00:00,  2.04it/s]\n",
            "                 Class     Images  Instances      Box(P          R      mAP50  mAP50-95)     Mask(P          R      mAP50  mAP50-95): 100% 1/1 [00:00<00:00,  2.79it/s]\n",
            "                   all         14        407      0.914      0.865       0.95      0.734      0.911       0.86      0.948      0.651\n",
            "\n",
            "      Epoch    GPU_mem   box_loss   seg_loss   cls_loss   dfl_loss  Instances       Size\n",
            "     42/100      5.88G     0.9262      1.229     0.6678      1.059         39        640: 100% 9/9 [00:03<00:00,  2.49it/s]\n",
            "                 Class     Images  Instances      Box(P          R      mAP50  mAP50-95)     Mask(P          R      mAP50  mAP50-95): 100% 1/1 [00:00<00:00,  2.78it/s]\n",
            "                   all         14        407      0.913      0.916      0.968      0.732      0.913      0.916      0.968       0.68\n",
            "\n",
            "      Epoch    GPU_mem   box_loss   seg_loss   cls_loss   dfl_loss  Instances       Size\n",
            "     43/100      5.57G      0.956      1.349     0.6291      1.039         86        640: 100% 9/9 [00:04<00:00,  2.05it/s]\n",
            "                 Class     Images  Instances      Box(P          R      mAP50  mAP50-95)     Mask(P          R      mAP50  mAP50-95): 100% 1/1 [00:00<00:00,  2.00it/s]\n",
            "                   all         14        407      0.934      0.892      0.962      0.706      0.934      0.892      0.962      0.647\n",
            "\n",
            "      Epoch    GPU_mem   box_loss   seg_loss   cls_loss   dfl_loss  Instances       Size\n",
            "     44/100      5.75G      1.009      1.336     0.6661      1.056         92        640: 100% 9/9 [00:03<00:00,  2.33it/s]\n",
            "                 Class     Images  Instances      Box(P          R      mAP50  mAP50-95)     Mask(P          R      mAP50  mAP50-95): 100% 1/1 [00:00<00:00,  3.06it/s]\n",
            "                   all         14        407      0.966      0.908      0.976      0.733      0.966      0.908      0.976      0.674\n",
            "\n",
            "      Epoch    GPU_mem   box_loss   seg_loss   cls_loss   dfl_loss  Instances       Size\n",
            "     45/100      5.93G     0.9283      1.273     0.6221      1.033        153        640: 100% 9/9 [00:03<00:00,  2.42it/s]\n",
            "                 Class     Images  Instances      Box(P          R      mAP50  mAP50-95)     Mask(P          R      mAP50  mAP50-95): 100% 1/1 [00:00<00:00,  2.66it/s]\n",
            "                   all         14        407       0.96      0.943      0.982      0.753       0.96      0.943      0.984      0.678\n",
            "\n",
            "      Epoch    GPU_mem   box_loss   seg_loss   cls_loss   dfl_loss  Instances       Size\n",
            "     46/100      5.95G     0.8508      1.175     0.6203      1.029        206        640: 100% 9/9 [00:04<00:00,  2.20it/s]\n",
            "                 Class     Images  Instances      Box(P          R      mAP50  mAP50-95)     Mask(P          R      mAP50  mAP50-95): 100% 1/1 [00:00<00:00,  2.61it/s]\n",
            "                   all         14        407      0.967      0.949      0.984      0.761      0.967      0.949      0.984      0.667\n",
            "\n",
            "      Epoch    GPU_mem   box_loss   seg_loss   cls_loss   dfl_loss  Instances       Size\n",
            "     47/100      5.82G     0.9736      1.291     0.6362      1.057         69        640: 100% 9/9 [00:03<00:00,  2.37it/s]\n",
            "                 Class     Images  Instances      Box(P          R      mAP50  mAP50-95)     Mask(P          R      mAP50  mAP50-95): 100% 1/1 [00:00<00:00,  2.50it/s]\n",
            "                   all         14        407      0.967      0.953       0.98        0.8      0.967      0.953       0.98      0.727\n",
            "\n",
            "      Epoch    GPU_mem   box_loss   seg_loss   cls_loss   dfl_loss  Instances       Size\n",
            "     48/100       6.1G     0.8759       1.11     0.5723     0.9888        109        640: 100% 9/9 [00:04<00:00,  1.95it/s]\n",
            "                 Class     Images  Instances      Box(P          R      mAP50  mAP50-95)     Mask(P          R      mAP50  mAP50-95): 100% 1/1 [00:00<00:00,  2.64it/s]\n",
            "                   all         14        407      0.975      0.958      0.987       0.82      0.975      0.958      0.987       0.75\n",
            "\n",
            "      Epoch    GPU_mem   box_loss   seg_loss   cls_loss   dfl_loss  Instances       Size\n",
            "     49/100      5.77G     0.8961       1.21     0.6034       1.02        169        640: 100% 9/9 [00:03<00:00,  2.44it/s]\n",
            "                 Class     Images  Instances      Box(P          R      mAP50  mAP50-95)     Mask(P          R      mAP50  mAP50-95): 100% 1/1 [00:00<00:00,  2.78it/s]\n",
            "                   all         14        407      0.965      0.947      0.983        0.8      0.965      0.947      0.982      0.711\n",
            "\n",
            "      Epoch    GPU_mem   box_loss   seg_loss   cls_loss   dfl_loss  Instances       Size\n",
            "     50/100      6.23G     0.9232      1.194     0.5858      1.044         38        640: 100% 9/9 [00:03<00:00,  2.31it/s]\n",
            "                 Class     Images  Instances      Box(P          R      mAP50  mAP50-95)     Mask(P          R      mAP50  mAP50-95): 100% 1/1 [00:00<00:00,  1.71it/s]\n",
            "                   all         14        407      0.932      0.945      0.969      0.791      0.932      0.945      0.968      0.704\n",
            "\n",
            "      Epoch    GPU_mem   box_loss   seg_loss   cls_loss   dfl_loss  Instances       Size\n",
            "     51/100      5.71G     0.8316      1.178     0.5709       1.04         35        640: 100% 9/9 [00:03<00:00,  2.42it/s]\n",
            "                 Class     Images  Instances      Box(P          R      mAP50  mAP50-95)     Mask(P          R      mAP50  mAP50-95): 100% 1/1 [00:00<00:00,  2.80it/s]\n",
            "                   all         14        407      0.966       0.97      0.984      0.806      0.966       0.97      0.984       0.72\n",
            "\n",
            "      Epoch    GPU_mem   box_loss   seg_loss   cls_loss   dfl_loss  Instances       Size\n",
            "     52/100      5.91G     0.8876      1.119     0.5696      0.998        212        640: 100% 9/9 [00:03<00:00,  2.34it/s]\n",
            "                 Class     Images  Instances      Box(P          R      mAP50  mAP50-95)     Mask(P          R      mAP50  mAP50-95): 100% 1/1 [00:00<00:00,  2.99it/s]\n",
            "                   all         14        407      0.966      0.976      0.992      0.805      0.966      0.976      0.992      0.713\n",
            "\n",
            "      Epoch    GPU_mem   box_loss   seg_loss   cls_loss   dfl_loss  Instances       Size\n",
            "     53/100      5.52G     0.8488       1.21     0.6066      1.054         38        640: 100% 9/9 [00:04<00:00,  2.06it/s]\n",
            "                 Class     Images  Instances      Box(P          R      mAP50  mAP50-95)     Mask(P          R      mAP50  mAP50-95): 100% 1/1 [00:00<00:00,  2.71it/s]\n",
            "                   all         14        407      0.957      0.974       0.99      0.771      0.957      0.974       0.99      0.673\n",
            "\n",
            "      Epoch    GPU_mem   box_loss   seg_loss   cls_loss   dfl_loss  Instances       Size\n",
            "     54/100      6.04G     0.8605      1.135     0.5732      1.032        117        640: 100% 9/9 [00:03<00:00,  2.42it/s]\n",
            "                 Class     Images  Instances      Box(P          R      mAP50  mAP50-95)     Mask(P          R      mAP50  mAP50-95): 100% 1/1 [00:00<00:00,  3.06it/s]\n",
            "                   all         14        407      0.968      0.961      0.988       0.78      0.968      0.961      0.988      0.694\n",
            "\n",
            "      Epoch    GPU_mem   box_loss   seg_loss   cls_loss   dfl_loss  Instances       Size\n",
            "     55/100       5.9G     0.8665      1.154     0.5803      1.022         81        640: 100% 9/9 [00:04<00:00,  2.17it/s]\n",
            "                 Class     Images  Instances      Box(P          R      mAP50  mAP50-95)     Mask(P          R      mAP50  mAP50-95): 100% 1/1 [00:00<00:00,  1.54it/s]\n",
            "                   all         14        407      0.965      0.956      0.989      0.784      0.965      0.956      0.989      0.687\n",
            "\n",
            "      Epoch    GPU_mem   box_loss   seg_loss   cls_loss   dfl_loss  Instances       Size\n",
            "     56/100      6.01G     0.8439      1.088     0.5379      1.016         33        640: 100% 9/9 [00:03<00:00,  2.32it/s]\n",
            "                 Class     Images  Instances      Box(P          R      mAP50  mAP50-95)     Mask(P          R      mAP50  mAP50-95): 100% 1/1 [00:00<00:00,  3.03it/s]\n",
            "                   all         14        407      0.952      0.964       0.99      0.828      0.952      0.964       0.99      0.753\n",
            "\n",
            "      Epoch    GPU_mem   box_loss   seg_loss   cls_loss   dfl_loss  Instances       Size\n",
            "     57/100         6G     0.8247      1.163     0.5518     0.9809        348        640: 100% 9/9 [00:03<00:00,  2.40it/s]\n",
            "                 Class     Images  Instances      Box(P          R      mAP50  mAP50-95)     Mask(P          R      mAP50  mAP50-95): 100% 1/1 [00:00<00:00,  2.56it/s]\n",
            "                   all         14        407      0.955      0.963      0.988      0.798      0.955      0.963      0.988      0.739\n",
            "\n",
            "      Epoch    GPU_mem   box_loss   seg_loss   cls_loss   dfl_loss  Instances       Size\n",
            "     58/100      5.67G     0.8779      1.176     0.5654      1.012         78        640: 100% 9/9 [00:04<00:00,  2.18it/s]\n",
            "                 Class     Images  Instances      Box(P          R      mAP50  mAP50-95)     Mask(P          R      mAP50  mAP50-95): 100% 1/1 [00:00<00:00,  2.59it/s]\n",
            "                   all         14        407      0.951      0.957      0.989      0.738      0.951      0.957      0.989      0.648\n",
            "\n",
            "      Epoch    GPU_mem   box_loss   seg_loss   cls_loss   dfl_loss  Instances       Size\n",
            "     59/100      5.82G     0.8628      1.107     0.5586      1.005        106        640: 100% 9/9 [00:03<00:00,  2.46it/s]\n",
            "                 Class     Images  Instances      Box(P          R      mAP50  mAP50-95)     Mask(P          R      mAP50  mAP50-95): 100% 1/1 [00:00<00:00,  2.80it/s]\n",
            "                   all         14        407      0.975      0.936       0.99      0.776      0.975      0.936       0.99      0.666\n",
            "\n",
            "      Epoch    GPU_mem   box_loss   seg_loss   cls_loss   dfl_loss  Instances       Size\n",
            "     60/100      6.24G     0.9004      1.138     0.5396     0.9771        319        640: 100% 9/9 [00:04<00:00,  1.97it/s]\n",
            "                 Class     Images  Instances      Box(P          R      mAP50  mAP50-95)     Mask(P          R      mAP50  mAP50-95): 100% 1/1 [00:00<00:00,  2.97it/s]\n",
            "                   all         14        407      0.961      0.946      0.987      0.809      0.961      0.946      0.987      0.748\n",
            "\n",
            "      Epoch    GPU_mem   box_loss   seg_loss   cls_loss   dfl_loss  Instances       Size\n",
            "     61/100      5.73G     0.8492      1.126     0.5456      1.034         68        640: 100% 9/9 [00:03<00:00,  2.53it/s]\n",
            "                 Class     Images  Instances      Box(P          R      mAP50  mAP50-95)     Mask(P          R      mAP50  mAP50-95): 100% 1/1 [00:00<00:00,  2.53it/s]\n",
            "                   all         14        407      0.963      0.955      0.987      0.797      0.963      0.955      0.987      0.738\n",
            "\n",
            "      Epoch    GPU_mem   box_loss   seg_loss   cls_loss   dfl_loss  Instances       Size\n",
            "     62/100      5.66G      0.759      1.052     0.5228     0.9906        112        640: 100% 9/9 [00:03<00:00,  2.32it/s]\n",
            "                 Class     Images  Instances      Box(P          R      mAP50  mAP50-95)     Mask(P          R      mAP50  mAP50-95): 100% 1/1 [00:00<00:00,  1.92it/s]\n",
            "                   all         14        407      0.965      0.945      0.989      0.818      0.965      0.945      0.989      0.731\n",
            "\n",
            "      Epoch    GPU_mem   box_loss   seg_loss   cls_loss   dfl_loss  Instances       Size\n",
            "     63/100      6.45G     0.8216      1.115     0.5447     0.9834         34        640: 100% 9/9 [00:03<00:00,  2.41it/s]\n",
            "                 Class     Images  Instances      Box(P          R      mAP50  mAP50-95)     Mask(P          R      mAP50  mAP50-95): 100% 1/1 [00:00<00:00,  2.86it/s]\n",
            "                   all         14        407      0.972      0.952      0.991      0.822      0.972      0.952      0.991       0.71\n",
            "\n",
            "      Epoch    GPU_mem   box_loss   seg_loss   cls_loss   dfl_loss  Instances       Size\n",
            "     64/100      5.86G     0.8011      1.085     0.5157      1.016        127        640: 100% 9/9 [00:03<00:00,  2.47it/s]\n",
            "                 Class     Images  Instances      Box(P          R      mAP50  mAP50-95)     Mask(P          R      mAP50  mAP50-95): 100% 1/1 [00:00<00:00,  2.77it/s]\n",
            "                   all         14        407      0.973      0.961      0.988      0.796      0.973      0.961      0.988      0.668\n",
            "\n",
            "      Epoch    GPU_mem   box_loss   seg_loss   cls_loss   dfl_loss  Instances       Size\n",
            "     65/100       5.9G     0.7134      1.008     0.4839     0.9895        118        640: 100% 9/9 [00:04<00:00,  2.00it/s]\n",
            "                 Class     Images  Instances      Box(P          R      mAP50  mAP50-95)     Mask(P          R      mAP50  mAP50-95): 100% 1/1 [00:00<00:00,  2.43it/s]\n",
            "                   all         14        407      0.973      0.958      0.987      0.789      0.973      0.958      0.987      0.661\n",
            "\n",
            "      Epoch    GPU_mem   box_loss   seg_loss   cls_loss   dfl_loss  Instances       Size\n",
            "     66/100      6.13G     0.7488     0.9694     0.4817     0.9445        152        640: 100% 9/9 [00:03<00:00,  2.49it/s]\n",
            "                 Class     Images  Instances      Box(P          R      mAP50  mAP50-95)     Mask(P          R      mAP50  mAP50-95): 100% 1/1 [00:00<00:00,  2.64it/s]\n",
            "                   all         14        407      0.978      0.953      0.984      0.803      0.978      0.953      0.984      0.695\n",
            "\n",
            "      Epoch    GPU_mem   box_loss   seg_loss   cls_loss   dfl_loss  Instances       Size\n",
            "     67/100      6.13G      0.841      1.105      0.512     0.9808        145        640: 100% 9/9 [00:04<00:00,  2.07it/s]\n",
            "                 Class     Images  Instances      Box(P          R      mAP50  mAP50-95)     Mask(P          R      mAP50  mAP50-95): 100% 1/1 [00:00<00:00,  1.86it/s]\n",
            "                   all         14        407      0.968      0.953      0.984      0.763      0.968      0.953      0.985      0.669\n",
            "\n",
            "      Epoch    GPU_mem   box_loss   seg_loss   cls_loss   dfl_loss  Instances       Size\n",
            "     68/100      5.34G     0.7142     0.9918     0.4999      1.005         47        640: 100% 9/9 [00:03<00:00,  2.50it/s]\n",
            "                 Class     Images  Instances      Box(P          R      mAP50  mAP50-95)     Mask(P          R      mAP50  mAP50-95): 100% 1/1 [00:00<00:00,  2.95it/s]\n",
            "                   all         14        407      0.957      0.953      0.982      0.782      0.957      0.953      0.982       0.66\n",
            "\n",
            "      Epoch    GPU_mem   box_loss   seg_loss   cls_loss   dfl_loss  Instances       Size\n",
            "     69/100      5.62G     0.7732      1.102     0.4969     0.9938         69        640: 100% 9/9 [00:03<00:00,  2.45it/s]\n",
            "                 Class     Images  Instances      Box(P          R      mAP50  mAP50-95)     Mask(P          R      mAP50  mAP50-95): 100% 1/1 [00:00<00:00,  3.01it/s]\n",
            "                   all         14        407       0.96      0.968      0.987      0.803       0.96      0.968      0.987      0.708\n",
            "\n",
            "      Epoch    GPU_mem   box_loss   seg_loss   cls_loss   dfl_loss  Instances       Size\n",
            "     70/100      5.33G     0.7497      1.052     0.4984      1.019         42        640: 100% 9/9 [00:04<00:00,  2.25it/s]\n",
            "                 Class     Images  Instances      Box(P          R      mAP50  mAP50-95)     Mask(P          R      mAP50  mAP50-95): 100% 1/1 [00:00<00:00,  3.02it/s]\n",
            "                   all         14        407      0.985      0.956       0.99        0.8      0.985      0.956       0.99      0.704\n",
            "\n",
            "      Epoch    GPU_mem   box_loss   seg_loss   cls_loss   dfl_loss  Instances       Size\n",
            "     71/100      5.75G     0.7086     0.9828     0.4711     0.9855         32        640: 100% 9/9 [00:03<00:00,  2.52it/s]\n",
            "                 Class     Images  Instances      Box(P          R      mAP50  mAP50-95)     Mask(P          R      mAP50  mAP50-95): 100% 1/1 [00:00<00:00,  2.63it/s]\n",
            "                   all         14        407      0.985      0.963      0.992      0.789      0.985      0.963      0.992      0.683\n",
            "\n",
            "      Epoch    GPU_mem   box_loss   seg_loss   cls_loss   dfl_loss  Instances       Size\n",
            "     72/100      5.41G     0.7931      1.122     0.5061      1.004        104        640: 100% 9/9 [00:04<00:00,  2.00it/s]\n",
            "                 Class     Images  Instances      Box(P          R      mAP50  mAP50-95)     Mask(P          R      mAP50  mAP50-95): 100% 1/1 [00:00<00:00,  2.77it/s]\n",
            "                   all         14        407      0.973      0.972      0.992      0.843      0.973      0.972      0.992       0.74\n",
            "\n",
            "      Epoch    GPU_mem   box_loss   seg_loss   cls_loss   dfl_loss  Instances       Size\n",
            "     73/100      5.56G     0.8474      1.069      0.493     0.9526        217        640: 100% 9/9 [00:03<00:00,  2.35it/s]\n",
            "                 Class     Images  Instances      Box(P          R      mAP50  mAP50-95)     Mask(P          R      mAP50  mAP50-95): 100% 1/1 [00:00<00:00,  2.69it/s]\n",
            "                   all         14        407      0.966      0.979      0.991      0.849      0.966      0.979      0.991      0.739\n",
            "\n",
            "      Epoch    GPU_mem   box_loss   seg_loss   cls_loss   dfl_loss  Instances       Size\n",
            "     74/100      5.71G     0.8154      1.111     0.4904     0.9595        182        640: 100% 9/9 [00:03<00:00,  2.39it/s]\n",
            "                 Class     Images  Instances      Box(P          R      mAP50  mAP50-95)     Mask(P          R      mAP50  mAP50-95): 100% 1/1 [00:00<00:00,  2.10it/s]\n",
            "                   all         14        407      0.952      0.979      0.988      0.842      0.952      0.979      0.988      0.739\n",
            "\n",
            "      Epoch    GPU_mem   box_loss   seg_loss   cls_loss   dfl_loss  Instances       Size\n",
            "     75/100      5.62G     0.7496      1.005     0.4614     0.9505         68        640: 100% 9/9 [00:03<00:00,  2.30it/s]\n",
            "                 Class     Images  Instances      Box(P          R      mAP50  mAP50-95)     Mask(P          R      mAP50  mAP50-95): 100% 1/1 [00:00<00:00,  2.54it/s]\n",
            "                   all         14        407      0.966      0.969      0.989      0.847      0.966      0.969      0.988      0.752\n",
            "\n",
            "      Epoch    GPU_mem   box_loss   seg_loss   cls_loss   dfl_loss  Instances       Size\n",
            "     76/100      5.61G     0.7503       1.06       0.49     0.9577         64        640: 100% 9/9 [00:03<00:00,  2.41it/s]\n",
            "                 Class     Images  Instances      Box(P          R      mAP50  mAP50-95)     Mask(P          R      mAP50  mAP50-95): 100% 1/1 [00:00<00:00,  2.80it/s]\n",
            "                   all         14        407      0.965      0.973       0.99      0.847      0.965      0.973       0.99      0.755\n",
            "\n",
            "      Epoch    GPU_mem   box_loss   seg_loss   cls_loss   dfl_loss  Instances       Size\n",
            "     77/100      5.65G     0.7276      1.035     0.4889     0.9531         77        640: 100% 9/9 [00:04<00:00,  2.00it/s]\n",
            "                 Class     Images  Instances      Box(P          R      mAP50  mAP50-95)     Mask(P          R      mAP50  mAP50-95): 100% 1/1 [00:00<00:00,  2.71it/s]\n",
            "                   all         14        407       0.97      0.964      0.991      0.825       0.97      0.964      0.991      0.727\n",
            "\n",
            "      Epoch    GPU_mem   box_loss   seg_loss   cls_loss   dfl_loss  Instances       Size\n",
            "     78/100      5.67G     0.7222      0.945     0.4709     0.9642        302        640: 100% 9/9 [00:03<00:00,  2.39it/s]\n",
            "                 Class     Images  Instances      Box(P          R      mAP50  mAP50-95)     Mask(P          R      mAP50  mAP50-95): 100% 1/1 [00:00<00:00,  2.98it/s]\n",
            "                   all         14        407      0.975      0.961      0.991      0.831      0.975      0.961      0.991      0.733\n",
            "\n",
            "      Epoch    GPU_mem   box_loss   seg_loss   cls_loss   dfl_loss  Instances       Size\n",
            "     79/100      6.49G     0.7095     0.9741     0.4699     0.9525         56        640: 100% 9/9 [00:04<00:00,  2.14it/s]\n",
            "                 Class     Images  Instances      Box(P          R      mAP50  mAP50-95)     Mask(P          R      mAP50  mAP50-95): 100% 1/1 [00:00<00:00,  1.41it/s]\n",
            "                   all         14        407      0.971      0.973      0.992      0.841      0.971      0.973      0.992      0.737\n",
            "\n",
            "      Epoch    GPU_mem   box_loss   seg_loss   cls_loss   dfl_loss  Instances       Size\n",
            "     80/100      6.35G     0.6333     0.8918      0.424     0.9498         66        640: 100% 9/9 [00:03<00:00,  2.36it/s]\n",
            "                 Class     Images  Instances      Box(P          R      mAP50  mAP50-95)     Mask(P          R      mAP50  mAP50-95): 100% 1/1 [00:00<00:00,  2.86it/s]\n",
            "                   all         14        407      0.975      0.975      0.992       0.85      0.975      0.975      0.992      0.761\n",
            "\n",
            "      Epoch    GPU_mem   box_loss   seg_loss   cls_loss   dfl_loss  Instances       Size\n",
            "     81/100      5.85G     0.7705      1.002     0.4857     0.9686         70        640: 100% 9/9 [00:03<00:00,  2.44it/s]\n",
            "                 Class     Images  Instances      Box(P          R      mAP50  mAP50-95)     Mask(P          R      mAP50  mAP50-95): 100% 1/1 [00:00<00:00,  2.84it/s]\n",
            "                   all         14        407      0.982      0.963      0.992       0.85      0.982      0.963      0.992      0.752\n",
            "\n",
            "      Epoch    GPU_mem   box_loss   seg_loss   cls_loss   dfl_loss  Instances       Size\n",
            "     82/100      5.46G     0.7513      1.004     0.4846     0.9748         66        640: 100% 9/9 [00:04<00:00,  2.20it/s]\n",
            "                 Class     Images  Instances      Box(P          R      mAP50  mAP50-95)     Mask(P          R      mAP50  mAP50-95): 100% 1/1 [00:00<00:00,  2.54it/s]\n",
            "                   all         14        407      0.982      0.962      0.992      0.843      0.972      0.973      0.992      0.734\n",
            "\n",
            "      Epoch    GPU_mem   box_loss   seg_loss   cls_loss   dfl_loss  Instances       Size\n",
            "     83/100       5.4G     0.7331      1.033     0.4811       0.97         65        640: 100% 9/9 [00:03<00:00,  2.47it/s]\n",
            "                 Class     Images  Instances      Box(P          R      mAP50  mAP50-95)     Mask(P          R      mAP50  mAP50-95): 100% 1/1 [00:00<00:00,  2.72it/s]\n",
            "                   all         14        407      0.976      0.966      0.992       0.85      0.976      0.966      0.992      0.738\n",
            "\n",
            "      Epoch    GPU_mem   box_loss   seg_loss   cls_loss   dfl_loss  Instances       Size\n",
            "     84/100       6.1G     0.7207      1.027     0.4835     0.9656         66        640: 100% 9/9 [00:04<00:00,  1.99it/s]\n",
            "                 Class     Images  Instances      Box(P          R      mAP50  mAP50-95)     Mask(P          R      mAP50  mAP50-95): 100% 1/1 [00:00<00:00,  2.88it/s]\n",
            "                   all         14        407      0.977      0.961      0.992      0.851      0.977      0.961      0.992      0.754\n",
            "\n",
            "      Epoch    GPU_mem   box_loss   seg_loss   cls_loss   dfl_loss  Instances       Size\n",
            "     85/100      5.73G     0.7194      1.035     0.4822     0.9546        109        640: 100% 9/9 [00:03<00:00,  2.45it/s]\n",
            "                 Class     Images  Instances      Box(P          R      mAP50  mAP50-95)     Mask(P          R      mAP50  mAP50-95): 100% 1/1 [00:00<00:00,  2.57it/s]\n",
            "                   all         14        407      0.963       0.98      0.992      0.855      0.963       0.98      0.992      0.754\n",
            "\n",
            "      Epoch    GPU_mem   box_loss   seg_loss   cls_loss   dfl_loss  Instances       Size\n",
            "     86/100      5.39G     0.7585     0.9531      0.492     0.9659        121        640: 100% 9/9 [00:03<00:00,  2.32it/s]\n",
            "                 Class     Images  Instances      Box(P          R      mAP50  mAP50-95)     Mask(P          R      mAP50  mAP50-95): 100% 1/1 [00:00<00:00,  1.67it/s]\n",
            "                   all         14        407      0.963      0.988      0.992       0.85      0.963      0.988      0.992      0.745\n",
            "\n",
            "      Epoch    GPU_mem   box_loss   seg_loss   cls_loss   dfl_loss  Instances       Size\n",
            "     87/100      6.13G     0.7331     0.9333     0.4644     0.9358        173        640: 100% 9/9 [00:03<00:00,  2.37it/s]\n",
            "                 Class     Images  Instances      Box(P          R      mAP50  mAP50-95)     Mask(P          R      mAP50  mAP50-95): 100% 1/1 [00:00<00:00,  2.62it/s]\n",
            "                   all         14        407      0.966      0.987      0.992      0.846      0.966      0.987      0.992      0.737\n",
            "\n",
            "      Epoch    GPU_mem   box_loss   seg_loss   cls_loss   dfl_loss  Instances       Size\n",
            "     88/100      5.95G     0.6223     0.8988     0.4112     0.9243         76        640: 100% 9/9 [00:03<00:00,  2.37it/s]\n",
            "                 Class     Images  Instances      Box(P          R      mAP50  mAP50-95)     Mask(P          R      mAP50  mAP50-95): 100% 1/1 [00:00<00:00,  2.19it/s]\n",
            "                   all         14        407      0.968      0.982      0.992      0.837      0.968      0.982      0.992       0.73\n",
            "\n",
            "      Epoch    GPU_mem   box_loss   seg_loss   cls_loss   dfl_loss  Instances       Size\n",
            "     89/100      5.22G     0.7051     0.9174      0.453     0.9921         73        640: 100% 9/9 [00:04<00:00,  1.93it/s]\n",
            "                 Class     Images  Instances      Box(P          R      mAP50  mAP50-95)     Mask(P          R      mAP50  mAP50-95): 100% 1/1 [00:00<00:00,  2.03it/s]\n",
            "                   all         14        407      0.962      0.989      0.991      0.844      0.962      0.989      0.991      0.738\n",
            "\n",
            "      Epoch    GPU_mem   box_loss   seg_loss   cls_loss   dfl_loss  Instances       Size\n",
            "     90/100      5.77G     0.6657     0.9068     0.4671     0.9663         88        640: 100% 9/9 [00:03<00:00,  2.28it/s]\n",
            "                 Class     Images  Instances      Box(P          R      mAP50  mAP50-95)     Mask(P          R      mAP50  mAP50-95): 100% 1/1 [00:00<00:00,  2.06it/s]\n",
            "                   all         14        407      0.963      0.988      0.992      0.848      0.963      0.988      0.992      0.744\n",
            "Closing dataloader mosaic\n",
            "/usr/local/lib/python3.11/dist-packages/ultralytics/data/augment.py:1850: UserWarning: Argument(s) 'quality_lower' are not valid for transform ImageCompression\n",
            "  A.ImageCompression(quality_lower=75, p=0.0),\n",
            "\u001b[34m\u001b[1malbumentations: \u001b[0mBlur(p=0.01, blur_limit=(3, 7)), MedianBlur(p=0.01, blur_limit=(3, 7)), ToGray(p=0.01, num_output_channels=3, method='weighted_average'), CLAHE(p=0.01, clip_limit=(1.0, 4.0), tile_grid_size=(8, 8))\n",
            "\n",
            "      Epoch    GPU_mem   box_loss   seg_loss   cls_loss   dfl_loss  Instances       Size\n",
            "     91/100      5.64G     0.7662      1.048     0.5117     0.9512         39        640: 100% 9/9 [00:07<00:00,  1.18it/s]\n",
            "                 Class     Images  Instances      Box(P          R      mAP50  mAP50-95)     Mask(P          R      mAP50  mAP50-95): 100% 1/1 [00:00<00:00,  2.68it/s]\n",
            "                   all         14        407      0.964      0.989      0.992      0.851      0.964      0.989      0.992      0.745\n",
            "\n",
            "      Epoch    GPU_mem   box_loss   seg_loss   cls_loss   dfl_loss  Instances       Size\n",
            "     92/100      5.53G     0.6967     0.9488     0.5658     0.9552         45        640: 100% 9/9 [00:03<00:00,  2.41it/s]\n",
            "                 Class     Images  Instances      Box(P          R      mAP50  mAP50-95)     Mask(P          R      mAP50  mAP50-95): 100% 1/1 [00:00<00:00,  2.92it/s]\n",
            "                   all         14        407      0.966      0.983      0.992       0.85      0.966      0.983      0.992      0.752\n",
            "\n",
            "      Epoch    GPU_mem   box_loss   seg_loss   cls_loss   dfl_loss  Instances       Size\n",
            "     93/100       5.7G     0.7501      1.004     0.4892     0.9443         62        640: 100% 9/9 [00:03<00:00,  2.30it/s]\n",
            "                 Class     Images  Instances      Box(P          R      mAP50  mAP50-95)     Mask(P          R      mAP50  mAP50-95): 100% 1/1 [00:00<00:00,  2.82it/s]\n",
            "                   all         14        407      0.971      0.982      0.993      0.849      0.971      0.982      0.993      0.744\n",
            "\n",
            "      Epoch    GPU_mem   box_loss   seg_loss   cls_loss   dfl_loss  Instances       Size\n",
            "     94/100       5.9G     0.7797      1.064     0.4684     0.9407         27        640: 100% 9/9 [00:03<00:00,  2.59it/s]\n",
            "                 Class     Images  Instances      Box(P          R      mAP50  mAP50-95)     Mask(P          R      mAP50  mAP50-95): 100% 1/1 [00:00<00:00,  3.05it/s]\n",
            "                   all         14        407      0.985      0.965      0.992      0.842      0.985      0.965      0.992      0.736\n",
            "\n",
            "      Epoch    GPU_mem   box_loss   seg_loss   cls_loss   dfl_loss  Instances       Size\n",
            "     95/100      5.46G     0.6225     0.9315     0.4118     0.8977        280        640: 100% 9/9 [00:04<00:00,  2.16it/s]\n",
            "                 Class     Images  Instances      Box(P          R      mAP50  mAP50-95)     Mask(P          R      mAP50  mAP50-95): 100% 1/1 [00:00<00:00,  2.28it/s]\n",
            "                   all         14        407       0.98      0.966      0.992      0.836       0.98      0.966      0.992       0.73\n",
            "\n",
            "      Epoch    GPU_mem   box_loss   seg_loss   cls_loss   dfl_loss  Instances       Size\n",
            "     96/100      5.53G     0.7174      1.143     0.4885      0.924         20        640: 100% 9/9 [00:03<00:00,  2.56it/s]\n",
            "                 Class     Images  Instances      Box(P          R      mAP50  mAP50-95)     Mask(P          R      mAP50  mAP50-95): 100% 1/1 [00:00<00:00,  2.96it/s]\n",
            "                   all         14        407       0.98      0.963      0.993      0.842       0.98      0.963      0.993      0.729\n",
            "\n",
            "      Epoch    GPU_mem   box_loss   seg_loss   cls_loss   dfl_loss  Instances       Size\n",
            "     97/100      5.69G     0.7338     0.9765     0.4492     0.9154         65        640: 100% 9/9 [00:03<00:00,  2.58it/s]\n",
            "                 Class     Images  Instances      Box(P          R      mAP50  mAP50-95)     Mask(P          R      mAP50  mAP50-95): 100% 1/1 [00:00<00:00,  2.94it/s]\n",
            "                   all         14        407      0.974      0.963      0.992      0.847      0.974      0.963      0.992       0.74\n",
            "\n",
            "      Epoch    GPU_mem   box_loss   seg_loss   cls_loss   dfl_loss  Instances       Size\n",
            "     98/100      5.76G     0.7076      1.001     0.4324     0.9123        192        640: 100% 9/9 [00:03<00:00,  2.29it/s]\n",
            "                 Class     Images  Instances      Box(P          R      mAP50  mAP50-95)     Mask(P          R      mAP50  mAP50-95): 100% 1/1 [00:00<00:00,  3.01it/s]\n",
            "                   all         14        407      0.976      0.963      0.993       0.85      0.976      0.963      0.993      0.738\n",
            "\n",
            "      Epoch    GPU_mem   box_loss   seg_loss   cls_loss   dfl_loss  Instances       Size\n",
            "     99/100      5.58G     0.7892       1.07     0.4531     0.9301         64        640: 100% 9/9 [00:03<00:00,  2.59it/s]\n",
            "                 Class     Images  Instances      Box(P          R      mAP50  mAP50-95)     Mask(P          R      mAP50  mAP50-95): 100% 1/1 [00:00<00:00,  2.95it/s]\n",
            "                   all         14        407       0.98      0.964      0.993      0.851       0.98      0.964      0.993      0.745\n",
            "\n",
            "      Epoch    GPU_mem   box_loss   seg_loss   cls_loss   dfl_loss  Instances       Size\n",
            "    100/100      5.82G     0.6087     0.8831     0.4005     0.9009        187        640: 100% 9/9 [00:04<00:00,  2.24it/s]\n",
            "                 Class     Images  Instances      Box(P          R      mAP50  mAP50-95)     Mask(P          R      mAP50  mAP50-95): 100% 1/1 [00:00<00:00,  2.29it/s]\n",
            "                   all         14        407      0.975      0.971      0.993      0.848      0.975      0.971      0.993      0.748\n",
            "\n",
            "100 epochs completed in 0.152 hours.\n",
            "Optimizer stripped from runs/segment/train/weights/last.pt, 20.5MB\n",
            "Optimizer stripped from runs/segment/train/weights/best.pt, 20.5MB\n",
            "\n",
            "Validating runs/segment/train/weights/best.pt...\n",
            "Ultralytics 8.3.40 🚀 Python-3.11.11 torch-2.6.0+cu124 CUDA:0 (Tesla T4, 15095MiB)\n",
            "YOLO11s-seg summary (fused): 265 layers, 10,067,203 parameters, 0 gradients, 35.3 GFLOPs\n",
            "                 Class     Images  Instances      Box(P          R      mAP50  mAP50-95)     Mask(P          R      mAP50  mAP50-95): 100% 1/1 [00:00<00:00,  2.65it/s]\n",
            "                   all         14        407      0.975      0.975      0.992       0.85      0.975      0.975      0.992      0.761\n",
            "Speed: 0.2ms preprocess, 5.8ms inference, 0.0ms loss, 1.2ms postprocess per image\n",
            "Results saved to \u001b[1mruns/segment/train\u001b[0m\n",
            "💡 Learn more at https://docs.ultralytics.com/modes/train\n"
          ]
        }
      ]
    },
    {
      "cell_type": "code",
      "source": [
        "!rm -rf /content/runs # caso seja necessario apagar alguma pasta\n"
      ],
      "metadata": {
        "id": "GiUulFVyIoOY"
      },
      "execution_count": 9,
      "outputs": []
    },
    {
      "cell_type": "markdown",
      "source": [
        "# 4. Export\n",
        "\n",
        "Export a YOLO11 model to any supported format below with the `format` argument, i.e. `format=onnx`. See [YOLO11 Export Docs](https://docs.ultralytics.com/modes/export/) for more information.\n",
        "\n",
        "- 💡 ProTip: Export to [ONNX](https://docs.ultralytics.com/integrations/onnx/) or [OpenVINO](https://docs.ultralytics.com/integrations/openvino/) for up to 3x CPU speedup.  \n",
        "- 💡 ProTip: Export to [TensorRT](https://docs.ultralytics.com/integrations/tensorrt/) for up to 5x GPU speedup.\n",
        "\n",
        "| Format                                                                   | `format` Argument | Model                     | Metadata | Arguments                                                            |\n",
        "|--------------------------------------------------------------------------|-------------------|---------------------------|----------|----------------------------------------------------------------------|\n",
        "| [PyTorch](https://pytorch.org/)                                          | -                 | `yolo11n.pt`              | ✅        | -                                                                    |\n",
        "| [TorchScript](https://docs.ultralytics.com/integrations/torchscript)     | `torchscript`     | `yolo11n.torchscript`     | ✅        | `imgsz`, `optimize`, `batch`                                         |\n",
        "| [ONNX](https://docs.ultralytics.com/integrations/onnx)                   | `onnx`            | `yolo11n.onnx`            | ✅        | `imgsz`, `half`, `dynamic`, `simplify`, `opset`, `batch`             |\n",
        "| [OpenVINO](https://docs.ultralytics.com/integrations/openvino)           | `openvino`        | `yolo11n_openvino_model/` | ✅        | `imgsz`, `half`, `dynamic`, `int8`, `batch`, `data`                  |\n",
        "| [TensorRT](https://docs.ultralytics.com/integrations/tensorrt)           | `engine`          | `yolo11n.engine`          | ✅        | `imgsz`, `half`, `dynamic`, `simplify`, `workspace`, `int8`, `batch`, `data` |\n",
        "| [CoreML](https://docs.ultralytics.com/integrations/coreml)               | `coreml`          | `yolo11n.mlpackage`       | ✅        | `imgsz`, `half`, `int8`, `nms`, `batch`                              |\n",
        "| [TF SavedModel](https://docs.ultralytics.com/integrations/tf-savedmodel) | `saved_model`     | `yolo11n_saved_model/`    | ✅        | `imgsz`, `keras`, `int8`, `batch`                                    |\n",
        "| [TF GraphDef](https://docs.ultralytics.com/integrations/tf-graphdef)     | `pb`              | `yolo11n.pb`              | ❌        | `imgsz`, `batch`                                                     |\n",
        "| [TF Lite](https://docs.ultralytics.com/integrations/tflite)              | `tflite`          | `yolo11n.tflite`          | ✅        | `imgsz`, `half`, `int8`, `batch`, `data`                             |\n",
        "| [TF Edge TPU](https://docs.ultralytics.com/integrations/edge-tpu)        | `edgetpu`         | `yolo11n_edgetpu.tflite`  | ✅        | `imgsz`                                                              |\n",
        "| [TF.js](https://docs.ultralytics.com/integrations/tfjs)                  | `tfjs`            | `yolo11n_web_model/`      | ✅        | `imgsz`, `half`, `int8`, `batch`                                     |\n",
        "| [PaddlePaddle](https://docs.ultralytics.com/integrations/paddlepaddle)   | `paddle`          | `yolo11n_paddle_model/`   | ✅        | `imgsz`, `batch`                                                     |\n",
        "| [MNN](https://docs.ultralytics.com/integrations/mnn)                     | `mnn`             | `yolo11n.mnn`             | ✅        | `imgsz`, `batch`, `int8`, `half`                                     |\n",
        "| [NCNN](https://docs.ultralytics.com/integrations/ncnn)                   | `ncnn`            | `yolo11n_ncnn_model/`     | ✅        | `imgsz`, `half`, `batch`                                             |\n",
        "| [IMX500](https://docs.ultralytics.com/integrations/sony-imx500)          | `imx`             | `yolov8n_imx_model/`      | ✅        | `imgsz`, `int8`, `data`                                              |\n",
        "| [RKNN](https://docs.ultralytics.com/integrations/rockchip-rknn)          | `rknn`            | `yolo11n_rknn_model/`     | ✅        | `imgsz`, `batch`, `name`                                             |"
      ],
      "metadata": {
        "id": "nPZZeNrLCQG6"
      }
    },
    {
      "cell_type": "code",
      "source": [
        "!yolo export model=modelo.pt format=tflite"
      ],
      "metadata": {
        "id": "P4jLvBGURAnY"
      },
      "execution_count": null,
      "outputs": []
    },
    {
      "cell_type": "markdown",
      "source": [
        "....\n",
        "...."
      ],
      "metadata": {
        "id": "fVlUGwjzUDSr"
      }
    },
    {
      "cell_type": "markdown",
      "source": [
        "CASO JA TENHA FEITO ISSO ANTES, POSSO SO FAZER DOWNLOAD DO GITHUB E FAZER O EXPORT POR AQUI"
      ],
      "metadata": {
        "id": "RfLaLJyuT8tj"
      }
    },
    {
      "cell_type": "code",
      "source": [
        "!git clone https://github.com/diogosm22/yolov11"
      ],
      "metadata": {
        "id": "pII9vJUtRxzN"
      },
      "execution_count": null,
      "outputs": []
    },
    {
      "cell_type": "code",
      "source": [
        "%cd yolov11\n",
        "!yolo export model=modelo.pt format=tflite"
      ],
      "metadata": {
        "id": "TrxReUZzSBRi"
      },
      "execution_count": null,
      "outputs": []
    },
    {
      "cell_type": "code",
      "source": [
        "from google.colab import drive\n",
        "drive.mount('/content/drive')"
      ],
      "metadata": {
        "id": "3Gn8rxWjUqMq"
      },
      "execution_count": null,
      "outputs": []
    },
    {
      "cell_type": "code",
      "source": [
        "arquivo_local = '/content/yolov11'  # O caminho do arquivo no Colab\n",
        "caminho_drive = '/content/drive/MyDrive'  # Caminho no Google Drive\n",
        "\n",
        "# Copiar o arquivo para o Google Drive\n",
        "!cp -r {arquivo_local} {caminho_drive}"
      ],
      "metadata": {
        "id": "OXTxEVIdc79r"
      },
      "execution_count": null,
      "outputs": []
    }
  ],
  "metadata": {
    "accelerator": "GPU",
    "colab": {
      "provenance": [],
      "gpuType": "T4",
      "include_colab_link": true
    },
    "kernelspec": {
      "display_name": "Python 3",
      "name": "python3"
    },
    "language_info": {
      "codemirror_mode": {
        "name": "ipython",
        "version": 3
      },
      "file_extension": ".py",
      "mimetype": "text/x-python",
      "name": "python",
      "nbconvert_exporter": "python",
      "pygments_lexer": "ipython3",
      "version": "3.9.6"
    }
  },
  "nbformat": 4,
  "nbformat_minor": 0
}